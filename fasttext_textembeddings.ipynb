{
  "nbformat": 4,
  "nbformat_minor": 0,
  "metadata": {
    "colab": {
      "provenance": []
    },
    "kernelspec": {
      "name": "python3",
      "display_name": "Python 3"
    },
    "language_info": {
      "name": "python"
    }
  },
  "cells": [
    {
      "cell_type": "code",
      "source": [
        "!git clone https://github.com/facebookresearch/fastText.git"
      ],
      "metadata": {
        "colab": {
          "base_uri": "https://localhost:8080/"
        },
        "id": "iA3F_mcFsHV4",
        "outputId": "94d78b4f-d76e-4c12-b3db-7d521a587253"
      },
      "execution_count": 1,
      "outputs": [
        {
          "output_type": "stream",
          "name": "stdout",
          "text": [
            "fatal: destination path 'fastText' already exists and is not an empty directory.\n"
          ]
        }
      ]
    },
    {
      "cell_type": "code",
      "source": [
        "%%bash\n",
        "sudo apt install -y protobuf-compiler\n",
        "cd fastText\n",
        "sudo pip install ."
      ],
      "metadata": {
        "colab": {
          "base_uri": "https://localhost:8080/"
        },
        "id": "l9_kfmy4uFnw",
        "outputId": "57e568fc-1e92-48ff-bd91-253c16d3a763"
      },
      "execution_count": 3,
      "outputs": [
        {
          "output_type": "stream",
          "name": "stdout",
          "text": [
            "Reading package lists...\n",
            "Building dependency tree...\n",
            "Reading state information...\n",
            "protobuf-compiler is already the newest version (3.0.0-9.1ubuntu1).\n",
            "The following package was automatically installed and is no longer required:\n",
            "  libnvidia-common-460\n",
            "Use 'sudo apt autoremove' to remove it.\n",
            "0 upgraded, 0 newly installed, 0 to remove and 20 not upgraded.\n",
            "Looking in indexes: https://pypi.org/simple, https://us-python.pkg.dev/colab-wheels/public/simple/\n",
            "Processing /content/fastText\n",
            "Requirement already satisfied: pybind11>=2.2 in /usr/local/lib/python3.7/dist-packages (from fasttext==0.9.2) (2.10.0)\n",
            "Requirement already satisfied: setuptools>=0.7.0 in /usr/local/lib/python3.7/dist-packages (from fasttext==0.9.2) (57.4.0)\n",
            "Requirement already satisfied: numpy in /usr/local/lib/python3.7/dist-packages (from fasttext==0.9.2) (1.21.6)\n",
            "Building wheels for collected packages: fasttext\n",
            "  Building wheel for fasttext (setup.py): started\n",
            "  Building wheel for fasttext (setup.py): finished with status 'done'\n",
            "  Created wheel for fasttext: filename=fasttext-0.9.2-cp37-cp37m-linux_x86_64.whl size=3156767 sha256=62fd87457184701b75ba68f59cfa71479d7cd2736ef4d16a43c9459075bdf8fe\n",
            "  Stored in directory: /tmp/pip-ephem-wheel-cache-jkwnix6s/wheels/22/04/6e/b3aba25c1a5845898b5871a0df37c2126cb0cc9326ad0c08e7\n",
            "Successfully built fasttext\n",
            "Installing collected packages: fasttext\n",
            "  Attempting uninstall: fasttext\n",
            "    Found existing installation: fasttext 0.9.2\n",
            "    Uninstalling fasttext-0.9.2:\n",
            "      Successfully uninstalled fasttext-0.9.2\n",
            "Successfully installed fasttext-0.9.2\n"
          ]
        },
        {
          "output_type": "stream",
          "name": "stderr",
          "text": [
            "\n",
            "WARNING: apt does not have a stable CLI interface. Use with caution in scripts.\n",
            "\n",
            "  DEPRECATION: A future pip version will change local packages to be built in-place without first copying to a temporary directory. We recommend you use --use-feature=in-tree-build to test your packages with this new behavior before it becomes the default.\n",
            "   pip 21.3 will remove support for this functionality. You can find discussion regarding this at https://github.com/pypa/pip/issues/7555.\n"
          ]
        }
      ]
    },
    {
      "cell_type": "code",
      "source": [
        "import fasttext"
      ],
      "metadata": {
        "id": "oMGCQHjBruJg"
      },
      "execution_count": 1,
      "outputs": []
    },
    {
      "cell_type": "code",
      "source": [
        "#!pip install gunzip"
      ],
      "metadata": {
        "id": "BrzRuFCSzn7i"
      },
      "execution_count": 3,
      "outputs": []
    },
    {
      "cell_type": "code",
      "source": [
        "#import gunzip"
      ],
      "metadata": {
        "id": "O-SaID1ry-zz"
      },
      "execution_count": 4,
      "outputs": []
    },
    {
      "cell_type": "code",
      "source": [
        "#%%bash\n",
        "#gunzip -k '/content/drive/MyDrive/finalyr/cc.en.300.bin.gz'"
      ],
      "metadata": {
        "id": "epRhEKzfzyIl"
      },
      "execution_count": 5,
      "outputs": []
    },
    {
      "cell_type": "code",
      "source": [
        "ft = fasttext.load_model('/content/drive/MyDrive/finalyr/cc.en.300.bin')"
      ],
      "metadata": {
        "id": "cX_0cTOov-Yz"
      },
      "execution_count": 2,
      "outputs": []
    },
    {
      "cell_type": "code",
      "source": [
        "ft.get_dimension()"
      ],
      "metadata": {
        "colab": {
          "base_uri": "https://localhost:8080/"
        },
        "id": "aWfodDVsz2mr",
        "outputId": "c8cd0224-916b-49a1-c83d-c4feffd19f44"
      },
      "execution_count": 7,
      "outputs": [
        {
          "output_type": "execute_result",
          "data": {
            "text/plain": [
              "300"
            ]
          },
          "metadata": {},
          "execution_count": 7
        }
      ]
    },
    {
      "cell_type": "code",
      "source": [
        "import fasttext.util"
      ],
      "metadata": {
        "id": "7DfAIro71FOb"
      },
      "execution_count": 3,
      "outputs": []
    },
    {
      "cell_type": "code",
      "source": [
        "fasttext.util.reduce_model(ft, 100)"
      ],
      "metadata": {
        "id": "zrb2ryM29XIT"
      },
      "execution_count": null,
      "outputs": []
    },
    {
      "cell_type": "code",
      "source": [
        "ft.get_word_vector('hello')"
      ],
      "metadata": {
        "colab": {
          "base_uri": "https://localhost:8080/"
        },
        "id": "ed0Oisza1A6J",
        "outputId": "a8ee31c5-ace5-4312-9ed9-2bbd3950e76c"
      },
      "execution_count": 12,
      "outputs": [
        {
          "output_type": "execute_result",
          "data": {
            "text/plain": [
              "array([ 1.57576188e-01,  4.37820926e-02, -4.51271934e-03,  6.65931404e-02,\n",
              "        7.70346820e-02,  4.85855248e-03,  8.19822028e-03,  6.52402919e-03,\n",
              "        9.25899856e-03,  3.53899002e-02, -2.31395271e-02, -4.91807126e-02,\n",
              "       -8.32642540e-02,  1.56014524e-02,  2.54856616e-01,  3.45423706e-02,\n",
              "       -1.07451361e-02, -7.80188590e-02, -7.08099529e-02,  7.62385577e-02,\n",
              "       -6.09613657e-02,  4.48625796e-02, -7.29744136e-02,  1.30583309e-02,\n",
              "        3.14881057e-02, -3.10055036e-02,  1.66004002e-02,  1.74405202e-02,\n",
              "       -7.35838860e-02,  1.18252613e-01, -1.21330231e-01, -4.09253240e-02,\n",
              "        2.93969568e-02,  4.84445989e-02, -1.33816330e-02, -1.74765270e-02,\n",
              "        7.51308873e-02,  9.97046307e-02, -4.00476977e-02,  4.05735290e-03,\n",
              "       -7.21896589e-02, -4.43356819e-02, -1.22628408e-03,  7.56693557e-02,\n",
              "        3.98401320e-02,  3.22643593e-02,  1.95914153e-02,  4.68016043e-02,\n",
              "       -1.46228177e-02,  1.12967767e-01,  3.15065160e-02, -1.02312110e-01,\n",
              "        1.58124104e-01, -2.76147053e-02, -3.39851156e-02, -1.77006852e-02,\n",
              "       -5.73529862e-04,  1.10789239e-01, -1.64533369e-02, -3.14955460e-03,\n",
              "       -4.22914140e-02,  1.11429848e-01, -5.31049855e-02,  4.91117276e-02,\n",
              "        9.10004079e-02,  6.57141507e-02, -3.71061601e-02,  3.81702930e-02,\n",
              "        7.25173131e-02, -5.31874336e-02,  3.06243524e-02, -5.77391349e-02,\n",
              "       -8.07492957e-02, -9.05582383e-02, -8.05390999e-02, -6.03040010e-02,\n",
              "       -9.73476470e-02,  4.83466834e-02,  6.79628998e-02, -2.63391621e-03,\n",
              "       -8.63242708e-03, -5.09856315e-03,  3.15496624e-02,  6.66525513e-02,\n",
              "        3.12875141e-04, -8.35073516e-02,  4.45498899e-02,  3.60494666e-02,\n",
              "       -2.06746310e-02, -6.20845817e-02, -9.07698199e-02, -4.88502011e-02,\n",
              "        1.32845968e-01,  1.26201622e-02,  4.61448133e-02, -5.53582981e-02,\n",
              "        2.26286706e-03,  4.92154472e-02,  3.35916355e-02,  6.64286166e-02,\n",
              "       -8.92760456e-02, -5.37227653e-02,  1.32202283e-01, -9.05150920e-03,\n",
              "        3.26110516e-03, -4.37462777e-02,  7.51723945e-02, -4.36847992e-02,\n",
              "       -3.93423960e-02,  4.89794314e-02,  8.05674866e-02, -3.93629894e-02,\n",
              "       -7.60222226e-02,  7.16625601e-02, -1.88665651e-02, -4.20744009e-02,\n",
              "        3.32255103e-03, -2.13907361e-02, -1.30127341e-01,  1.37401130e-02,\n",
              "       -5.14834598e-02,  3.86724435e-02,  4.92810011e-02, -6.17840439e-02,\n",
              "       -3.39861885e-02,  3.51758078e-02,  2.59123407e-02, -1.02832042e-01,\n",
              "        6.01336509e-02, -7.14224055e-02, -2.23655030e-02, -1.03390224e-01,\n",
              "       -6.34965971e-02,  1.22897769e-03, -8.42045806e-03, -7.10138381e-02,\n",
              "       -1.38788186e-02,  9.29828510e-02, -7.62190223e-02, -1.79991737e-01,\n",
              "        4.98081669e-02,  5.59808277e-02,  4.36702892e-02,  1.68789774e-02,\n",
              "       -3.51566449e-02,  5.45868883e-03, -1.51729390e-01,  8.31367448e-03,\n",
              "        1.33901536e-01,  1.18388735e-01, -2.54749060e-02, -5.89675866e-02,\n",
              "       -1.15508147e-01, -9.11533982e-02, -3.26217338e-02,  9.58938058e-03,\n",
              "        7.08419904e-02, -1.19613513e-01, -2.44825650e-02,  4.67297807e-02,\n",
              "       -1.05831511e-01,  8.39347020e-03, -3.59367356e-02, -7.11603984e-02,\n",
              "        1.49144500e-01, -9.40826610e-02,  3.87760401e-02,  4.80452590e-02,\n",
              "        2.00118758e-02,  5.70331514e-02, -5.09383976e-02, -1.54985264e-02,\n",
              "       -3.21162455e-02,  6.39992654e-02,  4.45546657e-02, -5.41638955e-02,\n",
              "        2.38869134e-02,  3.99200059e-02,  4.95060384e-02, -8.13021213e-02,\n",
              "        8.67957771e-02,  2.78793890e-02,  2.23497916e-02,  6.88121617e-02,\n",
              "        5.80286458e-02,  1.24275330e-02,  9.18484554e-02,  1.70225650e-02,\n",
              "       -2.20671259e-02, -5.54737449e-02,  3.15260515e-03, -8.95306170e-02,\n",
              "       -5.89935109e-04, -4.80783619e-02, -4.11259457e-02, -3.47180255e-02,\n",
              "       -4.23192009e-02,  1.01052016e-01,  4.34643961e-02,  6.75219819e-02,\n",
              "       -7.32917935e-02,  2.32507251e-02,  3.76763381e-02,  9.02093761e-03,\n",
              "       -8.25045630e-02, -9.67509300e-02,  5.91404364e-03,  2.62256898e-02,\n",
              "       -2.22521871e-02,  7.38612264e-02, -1.88500714e-03, -9.77522582e-02,\n",
              "       -5.37980236e-02, -4.76639681e-02, -1.30426334e-02,  8.38671811e-04,\n",
              "        2.90181581e-02, -3.12499143e-03, -9.28533375e-02,  6.73858598e-02,\n",
              "       -1.85458809e-01,  4.01153788e-02, -5.62882163e-02,  6.18898645e-02,\n",
              "        8.93600285e-02, -6.91142231e-02, -3.22221480e-02, -1.35385573e-01,\n",
              "       -7.45606720e-02,  1.01488158e-01, -2.72288243e-03,  6.07009046e-02,\n",
              "        2.42582299e-02, -1.51890054e-01, -2.93815900e-02, -4.21775132e-03,\n",
              "        5.16449586e-02,  1.85986951e-01, -2.56413780e-02,  8.12229067e-02,\n",
              "        3.16283293e-03, -3.35572846e-02,  3.90090160e-02, -7.37856179e-02,\n",
              "        1.14605539e-01, -7.38329254e-05, -3.69094908e-02,  9.31020677e-02,\n",
              "       -2.92852186e-02,  5.21238521e-02,  7.99705926e-03, -2.93293986e-02,\n",
              "        1.31182939e-01, -8.32130760e-02, -3.40401530e-02,  1.21310152e-01,\n",
              "        3.51337232e-02,  4.17837035e-03,  5.03289811e-02,  2.06086487e-02,\n",
              "        7.90461749e-02, -4.95089963e-02,  2.54211240e-02, -2.95754354e-02,\n",
              "       -2.65460461e-02,  5.42523079e-02, -5.52508160e-02,  1.06864944e-02,\n",
              "       -3.00089158e-02, -6.05286062e-02,  8.54329094e-02, -6.65596053e-02,\n",
              "       -6.78129196e-02,  3.51911336e-02,  6.19770139e-02,  4.80552204e-02,\n",
              "       -3.45021002e-02, -2.87248623e-02, -5.90536669e-02, -5.05724642e-03,\n",
              "       -9.74042267e-02,  1.88945048e-03, -9.06497836e-02,  1.47764226e-02,\n",
              "       -9.77678970e-02,  3.95894758e-02,  2.82567330e-02, -9.28364843e-02,\n",
              "       -8.16594157e-03, -4.56805378e-02,  1.12314738e-01,  8.59746262e-02,\n",
              "       -1.47517517e-01,  8.33301097e-02,  9.94666740e-02, -3.67202386e-02,\n",
              "        6.84743300e-02,  8.06697235e-02, -4.50269580e-02, -3.11294980e-02],\n",
              "      dtype=float32)"
            ]
          },
          "metadata": {},
          "execution_count": 12
        }
      ]
    },
    {
      "cell_type": "code",
      "source": [
        "ft.get_nearest_neighbors('hello')"
      ],
      "metadata": {
        "colab": {
          "base_uri": "https://localhost:8080/"
        },
        "id": "QcNwPL0l1CWx",
        "outputId": "6fc86cd1-ea7e-48aa-9450-d15cead5b40d"
      },
      "execution_count": 10,
      "outputs": [
        {
          "output_type": "execute_result",
          "data": {
            "text/plain": [
              "[(0.7143728733062744, 'hellow'),\n",
              " (0.7095366716384888, 'hello.'),\n",
              " (0.703833818435669, 'hi'),\n",
              " (0.6944323182106018, 'hullo'),\n",
              " (0.6912142038345337, 'hello-'),\n",
              " (0.663975715637207, 'Hello'),\n",
              " (0.6563249230384827, 'hello.I'),\n",
              " (0.6529381275177002, 'howdy'),\n",
              " (0.6283847689628601, 'hellooo'),\n",
              " (0.6235803365707397, 'hellooooo')]"
            ]
          },
          "metadata": {},
          "execution_count": 10
        }
      ]
    },
    {
      "cell_type": "code",
      "source": [
        "ft.save_model('cc.en.100.bin')"
      ],
      "metadata": {
        "id": "IQc9HAIr16MS"
      },
      "execution_count": 11,
      "outputs": []
    },
    {
      "cell_type": "code",
      "source": [
        "def text_emb(word):\n",
        "  ft.get_word_vector(word)\n"
      ],
      "metadata": {
        "id": "hjCA37JD2EzA"
      },
      "execution_count": null,
      "outputs": []
    },
    {
      "cell_type": "code",
      "source": [
        "l=[]\n",
        "def output():\n",
        "  with open('input.txt','r') as file:   \n",
        "    # reading each line    \n",
        "    for line in file:   \n",
        "        # reading each word        \n",
        "        for word in line.split():\n",
        "          l.append(text_emb(word))\n",
        "print(l)"
      ],
      "metadata": {
        "id": "6kbhRdHl44zn"
      },
      "execution_count": null,
      "outputs": []
    }
  ]
}